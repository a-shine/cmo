{
 "cells": [
  {
   "cell_type": "code",
   "execution_count": 1,
   "metadata": {},
   "outputs": [
    {
     "name": "stderr",
     "output_type": "stream",
     "text": [
      "Platform not recognized, using system temp directory for PCSE settings.\n",
      "Platform not recognized, using system temp directory for PCSE settings.\n",
      "/Users/alex/Documents/crop_management_optim/venv/lib/python3.9/site-packages/urllib3/__init__.py:34: NotOpenSSLWarning: urllib3 v2 only supports OpenSSL 1.1.1+, currently the 'ssl' module is compiled with 'LibreSSL 2.8.3'. See: https://github.com/urllib3/urllib3/issues/3020\n",
      "  warnings.warn(\n"
     ]
    }
   ],
   "source": [
    "# test out crop gym - dev other agents\n",
    "# Include pseudo random changes in the crop growth cause by pests and diseases (missing from the crop growth model)\n",
    "\n",
    "import pcse"
   ]
  },
  {
   "cell_type": "code",
   "execution_count": 2,
   "metadata": {},
   "outputs": [
    {
     "name": "stderr",
     "output_type": "stream",
     "text": [
      "/Users/alex/Documents/crop_management_optim/venv/lib/python3.9/site-packages/pcse/db/pcse/db_input.py:652: SAWarning: Dialect sqlite+pysqlite does *not* support Decimal objects natively, and SQLAlchemy must convert from floating point - rounding errors and other issues may occur. Please consider storing Decimal numbers as strings or integers on this platform for lossless storage.\n",
      "  r = select([table_site],\n",
      "/Users/alex/Documents/crop_management_optim/venv/lib/python3.9/site-packages/pcse/db/pcse/db_input.py:127: SAWarning: Dialect sqlite+pysqlite does *not* support Decimal objects natively, and SQLAlchemy must convert from floating point - rounding errors and other issues may occur. Please consider storing Decimal numbers as strings or integers on this platform for lossless storage.\n",
      "  r = s.execute()\n",
      "/Users/alex/Documents/crop_management_optim/venv/lib/python3.9/site-packages/pcse/db/pcse/db_input.py:183: SAWarning: Dialect sqlite+pysqlite does *not* support Decimal objects natively, and SQLAlchemy must convert from floating point - rounding errors and other issues may occur. Please consider storing Decimal numbers as strings or integers on this platform for lossless storage.\n",
      "  r = s.execute()\n",
      "/Users/alex/Documents/crop_management_optim/venv/lib/python3.9/site-packages/pcse/db/pcse/db_input.py:493: SAWarning: Dialect sqlite+pysqlite does *not* support Decimal objects natively, and SQLAlchemy must convert from floating point - rounding errors and other issues may occur. Please consider storing Decimal numbers as strings or integers on this platform for lossless storage.\n",
      "  cursor = select([table_soil_layers.c.thickness,\n",
      "/Users/alex/Documents/crop_management_optim/venv/lib/python3.9/site-packages/pcse/db/pcse/db_input.py:522: SAWarning: Dialect sqlite+pysqlite does *not* support Decimal objects natively, and SQLAlchemy must convert from floating point - rounding errors and other issues may occur. Please consider storing Decimal numbers as strings or integers on this platform for lossless storage.\n",
      "  r = select([table_soil_pg],\n"
     ]
    }
   ],
   "source": [
    "# wofost crop model\n",
    "# Modeling winter wheat (crop 1)\n",
    "# southern spain (grid 31031)\n",
    "# year 2000\n",
    "# mode wlp (water limited production)\n",
    "wofost_object = pcse.start_wofost(grid=31031, crop=1, year=2000, mode='wlp')\n",
    "\n",
    "# Advance the model by one day\n",
    "wofost_object.run()"
   ]
  }
 ],
 "metadata": {
  "kernelspec": {
   "display_name": "venv",
   "language": "python",
   "name": "python3"
  },
  "language_info": {
   "codemirror_mode": {
    "name": "ipython",
    "version": 3
   },
   "file_extension": ".py",
   "mimetype": "text/x-python",
   "name": "python",
   "nbconvert_exporter": "python",
   "pygments_lexer": "ipython3",
   "version": "3.9.6"
  }
 },
 "nbformat": 4,
 "nbformat_minor": 2
}
